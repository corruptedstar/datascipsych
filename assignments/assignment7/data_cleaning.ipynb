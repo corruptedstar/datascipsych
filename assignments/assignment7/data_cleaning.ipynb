{
 "cells": [
  {
   "cell_type": "markdown",
   "metadata": {},
   "source": [
    "## Transforming data\n",
    "Polars has very flexible methods for transforming data in a DataFrame, using the `select` and `with_columns` methods."
   ]
  },
  {
   "cell_type": "markdown",
   "metadata": {},
   "source": [
    "We previously used `select` to select and reorder columns. We can also use various expressions to modify columns while we're at it. For example, we can take the `-1` placeholder values that indicating missing data and replace them with a missing-data indicator.\n",
    "\n",
    "First, let's look at the `\"response\"` and `\"RT\"` columns again. The first trials are during the study phase, so they are undefined."
   ]
  },
  {
   "cell_type": "code",
   "execution_count": 2,
   "metadata": {},
   "outputs": [
    {
     "data": {
      "text/html": [
       "<div><style>\n",
       ".dataframe > thead > tr,\n",
       ".dataframe > tbody > tr {\n",
       "  text-align: right;\n",
       "  white-space: pre-wrap;\n",
       "}\n",
       "</style>\n",
       "<small>shape: (5, 16)</small><table border=\"1\" class=\"dataframe\"><thead><tr><th>cycle</th><th>trial</th><th>phase</th><th>type</th><th>word1</th><th>word2</th><th>response</th><th>RT</th><th>correct</th><th>lag</th><th>serPos1</th><th>serPos2</th><th>subj</th><th>intactLag</th><th>prevResponse</th><th>prevRT</th></tr><tr><td>i64</td><td>i64</td><td>str</td><td>str</td><td>str</td><td>str</td><td>i64</td><td>f64</td><td>i64</td><td>i64</td><td>i64</td><td>i64</td><td>i64</td><td>i64</td><td>i64</td><td>i64</td></tr></thead><tbody><tr><td>0</td><td>-1</td><td>&quot;study&quot;</td><td>&quot;intact&quot;</td><td>&quot;formal&quot;</td><td>&quot;positive&quot;</td><td>-1</td><td>-1.0</td><td>-1</td><td>-1</td><td>0</td><td>0</td><td>101</td><td>0</td><td>0</td><td>0</td></tr><tr><td>0</td><td>0</td><td>&quot;study&quot;</td><td>&quot;intact&quot;</td><td>&quot;skin&quot;</td><td>&quot;careful&quot;</td><td>-1</td><td>-1.0</td><td>-1</td><td>-1</td><td>1</td><td>1</td><td>101</td><td>0</td><td>0</td><td>0</td></tr><tr><td>0</td><td>1</td><td>&quot;study&quot;</td><td>&quot;intact&quot;</td><td>&quot;upon&quot;</td><td>&quot;miss&quot;</td><td>-1</td><td>-1.0</td><td>-1</td><td>-1</td><td>2</td><td>2</td><td>101</td><td>0</td><td>0</td><td>0</td></tr><tr><td>0</td><td>2</td><td>&quot;study&quot;</td><td>&quot;intact&quot;</td><td>&quot;single&quot;</td><td>&quot;tradition&quot;</td><td>-1</td><td>-1.0</td><td>-1</td><td>-1</td><td>3</td><td>3</td><td>101</td><td>0</td><td>0</td><td>0</td></tr><tr><td>0</td><td>3</td><td>&quot;study&quot;</td><td>&quot;intact&quot;</td><td>&quot;prove&quot;</td><td>&quot;airport&quot;</td><td>-1</td><td>-1.0</td><td>-1</td><td>-1</td><td>4</td><td>4</td><td>101</td><td>0</td><td>0</td><td>0</td></tr></tbody></table></div>"
      ],
      "text/plain": [
       "shape: (5, 16)\n",
       "┌───────┬───────┬───────┬────────┬───┬──────┬───────────┬──────────────┬────────┐\n",
       "│ cycle ┆ trial ┆ phase ┆ type   ┆ … ┆ subj ┆ intactLag ┆ prevResponse ┆ prevRT │\n",
       "│ ---   ┆ ---   ┆ ---   ┆ ---    ┆   ┆ ---  ┆ ---       ┆ ---          ┆ ---    │\n",
       "│ i64   ┆ i64   ┆ str   ┆ str    ┆   ┆ i64  ┆ i64       ┆ i64          ┆ i64    │\n",
       "╞═══════╪═══════╪═══════╪════════╪═══╪══════╪═══════════╪══════════════╪════════╡\n",
       "│ 0     ┆ -1    ┆ study ┆ intact ┆ … ┆ 101  ┆ 0         ┆ 0            ┆ 0      │\n",
       "│ 0     ┆ 0     ┆ study ┆ intact ┆ … ┆ 101  ┆ 0         ┆ 0            ┆ 0      │\n",
       "│ 0     ┆ 1     ┆ study ┆ intact ┆ … ┆ 101  ┆ 0         ┆ 0            ┆ 0      │\n",
       "│ 0     ┆ 2     ┆ study ┆ intact ┆ … ┆ 101  ┆ 0         ┆ 0            ┆ 0      │\n",
       "│ 0     ┆ 3     ┆ study ┆ intact ┆ … ┆ 101  ┆ 0         ┆ 0            ┆ 0      │\n",
       "└───────┴───────┴───────┴────────┴───┴──────┴───────────┴──────────────┴────────┘"
      ]
     },
     "execution_count": 2,
     "metadata": {},
     "output_type": "execute_result"
    }
   ],
   "source": [
    "import polars as pl\n",
    "raw = pl.read_csv(\"exp1.csv\")\n",
    "raw.head()"
   ]
  },
  {
   "cell_type": "code",
   "execution_count": 3,
   "metadata": {},
   "outputs": [
    {
     "data": {
      "text/html": [
       "<div><style>\n",
       ".dataframe > thead > tr,\n",
       ".dataframe > tbody > tr {\n",
       "  text-align: right;\n",
       "  white-space: pre-wrap;\n",
       "}\n",
       "</style>\n",
       "<small>shape: (5, 11)</small><table border=\"1\" class=\"dataframe\"><thead><tr><th>subj</th><th>cycle</th><th>trial</th><th>phase</th><th>type</th><th>word1</th><th>word2</th><th>response</th><th>RT</th><th>correct</th><th>lag</th></tr><tr><td>i64</td><td>i64</td><td>i64</td><td>str</td><td>str</td><td>str</td><td>str</td><td>i64</td><td>f64</td><td>i64</td><td>i64</td></tr></thead><tbody><tr><td>101</td><td>0</td><td>-1</td><td>&quot;study&quot;</td><td>&quot;intact&quot;</td><td>&quot;formal&quot;</td><td>&quot;positive&quot;</td><td>-1</td><td>-1.0</td><td>-1</td><td>-1</td></tr><tr><td>101</td><td>0</td><td>0</td><td>&quot;study&quot;</td><td>&quot;intact&quot;</td><td>&quot;skin&quot;</td><td>&quot;careful&quot;</td><td>-1</td><td>-1.0</td><td>-1</td><td>-1</td></tr><tr><td>101</td><td>0</td><td>1</td><td>&quot;study&quot;</td><td>&quot;intact&quot;</td><td>&quot;upon&quot;</td><td>&quot;miss&quot;</td><td>-1</td><td>-1.0</td><td>-1</td><td>-1</td></tr><tr><td>101</td><td>0</td><td>2</td><td>&quot;study&quot;</td><td>&quot;intact&quot;</td><td>&quot;single&quot;</td><td>&quot;tradition&quot;</td><td>-1</td><td>-1.0</td><td>-1</td><td>-1</td></tr><tr><td>101</td><td>0</td><td>3</td><td>&quot;study&quot;</td><td>&quot;intact&quot;</td><td>&quot;prove&quot;</td><td>&quot;airport&quot;</td><td>-1</td><td>-1.0</td><td>-1</td><td>-1</td></tr></tbody></table></div>"
      ],
      "text/plain": [
       "shape: (5, 11)\n",
       "┌──────┬───────┬───────┬───────┬───┬──────────┬──────┬─────────┬─────┐\n",
       "│ subj ┆ cycle ┆ trial ┆ phase ┆ … ┆ response ┆ RT   ┆ correct ┆ lag │\n",
       "│ ---  ┆ ---   ┆ ---   ┆ ---   ┆   ┆ ---      ┆ ---  ┆ ---     ┆ --- │\n",
       "│ i64  ┆ i64   ┆ i64   ┆ str   ┆   ┆ i64      ┆ f64  ┆ i64     ┆ i64 │\n",
       "╞══════╪═══════╪═══════╪═══════╪═══╪══════════╪══════╪═════════╪═════╡\n",
       "│ 101  ┆ 0     ┆ -1    ┆ study ┆ … ┆ -1       ┆ -1.0 ┆ -1      ┆ -1  │\n",
       "│ 101  ┆ 0     ┆ 0     ┆ study ┆ … ┆ -1       ┆ -1.0 ┆ -1      ┆ -1  │\n",
       "│ 101  ┆ 0     ┆ 1     ┆ study ┆ … ┆ -1       ┆ -1.0 ┆ -1      ┆ -1  │\n",
       "│ 101  ┆ 0     ┆ 2     ┆ study ┆ … ┆ -1       ┆ -1.0 ┆ -1      ┆ -1  │\n",
       "│ 101  ┆ 0     ┆ 3     ┆ study ┆ … ┆ -1       ┆ -1.0 ┆ -1      ┆ -1  │\n",
       "└──────┴───────┴───────┴───────┴───┴──────────┴──────┴─────────┴─────┘"
      ]
     },
     "execution_count": 3,
     "metadata": {},
     "output_type": "execute_result"
    }
   ],
   "source": [
    "columns = [\n",
    "    \"subj\", \n",
    "    \"cycle\", \n",
    "    \"trial\", \n",
    "    \"phase\", \n",
    "    \"type\", \n",
    "    \"word1\", \n",
    "    \"word2\", \n",
    "    \"response\", \n",
    "    \"RT\", \n",
    "    \"correct\", \n",
    "    \"lag\",\n",
    "]\n",
    "df = raw.select(columns)\n",
    "df.head()"
   ]
  },
  {
   "cell_type": "code",
   "execution_count": 4,
   "metadata": {},
   "outputs": [
    {
     "data": {
      "text/html": [
       "<div><style>\n",
       ".dataframe > thead > tr,\n",
       ".dataframe > tbody > tr {\n",
       "  text-align: right;\n",
       "  white-space: pre-wrap;\n",
       "}\n",
       "</style>\n",
       "<small>shape: (5, 2)</small><table border=\"1\" class=\"dataframe\"><thead><tr><th>response</th><th>RT</th></tr><tr><td>i64</td><td>f64</td></tr></thead><tbody><tr><td>-1</td><td>-1.0</td></tr><tr><td>-1</td><td>-1.0</td></tr><tr><td>-1</td><td>-1.0</td></tr><tr><td>-1</td><td>-1.0</td></tr><tr><td>-1</td><td>-1.0</td></tr></tbody></table></div>"
      ],
      "text/plain": [
       "shape: (5, 2)\n",
       "┌──────────┬──────┐\n",
       "│ response ┆ RT   │\n",
       "│ ---      ┆ ---  │\n",
       "│ i64      ┆ f64  │\n",
       "╞══════════╪══════╡\n",
       "│ -1       ┆ -1.0 │\n",
       "│ -1       ┆ -1.0 │\n",
       "│ -1       ┆ -1.0 │\n",
       "│ -1       ┆ -1.0 │\n",
       "│ -1       ┆ -1.0 │\n",
       "└──────────┴──────┘"
      ]
     },
     "execution_count": 4,
     "metadata": {},
     "output_type": "execute_result"
    }
   ],
   "source": [
    "df.select([\"response\", \"RT\"]).head()"
   ]
  },
  {
   "cell_type": "markdown",
   "metadata": {},
   "source": [
    "We can replace the `-1` values with a `null` marker that will indicate that they represent missing data. To change columns, instead of just selecting them, we must use `pl.col` expressions. Here, we'll select the `\"response\"` and `\"RT\"` columns and then call the `replace` method to change their values. Setting a value in a column to `None` indicates that the data are missing. This will look like `null` in the DataFrame."
   ]
  },
  {
   "cell_type": "code",
   "execution_count": 5,
   "metadata": {},
   "outputs": [
    {
     "data": {
      "text/html": [
       "<div><style>\n",
       ".dataframe > thead > tr,\n",
       ".dataframe > tbody > tr {\n",
       "  text-align: right;\n",
       "  white-space: pre-wrap;\n",
       "}\n",
       "</style>\n",
       "<small>shape: (5, 2)</small><table border=\"1\" class=\"dataframe\"><thead><tr><th>response</th><th>RT</th></tr><tr><td>i64</td><td>f64</td></tr></thead><tbody><tr><td>null</td><td>null</td></tr><tr><td>null</td><td>null</td></tr><tr><td>null</td><td>null</td></tr><tr><td>null</td><td>null</td></tr><tr><td>null</td><td>null</td></tr></tbody></table></div>"
      ],
      "text/plain": [
       "shape: (5, 2)\n",
       "┌──────────┬──────┐\n",
       "│ response ┆ RT   │\n",
       "│ ---      ┆ ---  │\n",
       "│ i64      ┆ f64  │\n",
       "╞══════════╪══════╡\n",
       "│ null     ┆ null │\n",
       "│ null     ┆ null │\n",
       "│ null     ┆ null │\n",
       "│ null     ┆ null │\n",
       "│ null     ┆ null │\n",
       "└──────────┴──────┘"
      ]
     },
     "execution_count": 5,
     "metadata": {},
     "output_type": "execute_result"
    }
   ],
   "source": [
    "df.select(pl.col(\"response\", \"RT\").replace(-1, None)).head()"
   ]
  },
  {
   "cell_type": "markdown",
   "metadata": {},
   "source": [
    "Setting missing data correctly is important to avoid skewing descriptive statistics. For example, if we want to calculate the mean response time, we don't want a bunch of `-1`s in there."
   ]
  },
  {
   "cell_type": "markdown",
   "metadata": {},
   "source": [
    "Instead of using `select`, we can also use `with_columns` if we want to keep the other columns that we aren't specifically defining. Let's also check for `-1` values in the `\"correct\"` and `\"lag\"` fields while we're at it."
   ]
  },
  {
   "cell_type": "code",
   "execution_count": 6,
   "metadata": {},
   "outputs": [
    {
     "data": {
      "text/html": [
       "<div><style>\n",
       ".dataframe > thead > tr,\n",
       ".dataframe > tbody > tr {\n",
       "  text-align: right;\n",
       "  white-space: pre-wrap;\n",
       "}\n",
       "</style>\n",
       "<small>shape: (5, 11)</small><table border=\"1\" class=\"dataframe\"><thead><tr><th>subj</th><th>cycle</th><th>trial</th><th>phase</th><th>type</th><th>word1</th><th>word2</th><th>response</th><th>RT</th><th>correct</th><th>lag</th></tr><tr><td>i64</td><td>i64</td><td>i64</td><td>str</td><td>str</td><td>str</td><td>str</td><td>i64</td><td>f64</td><td>i64</td><td>i64</td></tr></thead><tbody><tr><td>101</td><td>0</td><td>-1</td><td>&quot;study&quot;</td><td>&quot;intact&quot;</td><td>&quot;formal&quot;</td><td>&quot;positive&quot;</td><td>null</td><td>null</td><td>null</td><td>null</td></tr><tr><td>101</td><td>0</td><td>0</td><td>&quot;study&quot;</td><td>&quot;intact&quot;</td><td>&quot;skin&quot;</td><td>&quot;careful&quot;</td><td>null</td><td>null</td><td>null</td><td>null</td></tr><tr><td>101</td><td>0</td><td>1</td><td>&quot;study&quot;</td><td>&quot;intact&quot;</td><td>&quot;upon&quot;</td><td>&quot;miss&quot;</td><td>null</td><td>null</td><td>null</td><td>null</td></tr><tr><td>101</td><td>0</td><td>2</td><td>&quot;study&quot;</td><td>&quot;intact&quot;</td><td>&quot;single&quot;</td><td>&quot;tradition&quot;</td><td>null</td><td>null</td><td>null</td><td>null</td></tr><tr><td>101</td><td>0</td><td>3</td><td>&quot;study&quot;</td><td>&quot;intact&quot;</td><td>&quot;prove&quot;</td><td>&quot;airport&quot;</td><td>null</td><td>null</td><td>null</td><td>null</td></tr></tbody></table></div>"
      ],
      "text/plain": [
       "shape: (5, 11)\n",
       "┌──────┬───────┬───────┬───────┬───┬──────────┬──────┬─────────┬──────┐\n",
       "│ subj ┆ cycle ┆ trial ┆ phase ┆ … ┆ response ┆ RT   ┆ correct ┆ lag  │\n",
       "│ ---  ┆ ---   ┆ ---   ┆ ---   ┆   ┆ ---      ┆ ---  ┆ ---     ┆ ---  │\n",
       "│ i64  ┆ i64   ┆ i64   ┆ str   ┆   ┆ i64      ┆ f64  ┆ i64     ┆ i64  │\n",
       "╞══════╪═══════╪═══════╪═══════╪═══╪══════════╪══════╪═════════╪══════╡\n",
       "│ 101  ┆ 0     ┆ -1    ┆ study ┆ … ┆ null     ┆ null ┆ null    ┆ null │\n",
       "│ 101  ┆ 0     ┆ 0     ┆ study ┆ … ┆ null     ┆ null ┆ null    ┆ null │\n",
       "│ 101  ┆ 0     ┆ 1     ┆ study ┆ … ┆ null     ┆ null ┆ null    ┆ null │\n",
       "│ 101  ┆ 0     ┆ 2     ┆ study ┆ … ┆ null     ┆ null ┆ null    ┆ null │\n",
       "│ 101  ┆ 0     ┆ 3     ┆ study ┆ … ┆ null     ┆ null ┆ null    ┆ null │\n",
       "└──────┴───────┴───────┴───────┴───┴──────────┴──────┴─────────┴──────┘"
      ]
     },
     "execution_count": 6,
     "metadata": {},
     "output_type": "execute_result"
    }
   ],
   "source": [
    "df_null = df.with_columns(pl.col(\"response\", \"RT\", \"correct\", \"lag\").replace(-1, None))\n",
    "df_null.head()"
   ]
  },
  {
   "cell_type": "code",
   "execution_count": 7,
   "metadata": {},
   "outputs": [
    {
     "data": {
      "text/html": [
       "<div><style>\n",
       ".dataframe > thead > tr,\n",
       ".dataframe > tbody > tr {\n",
       "  text-align: right;\n",
       "  white-space: pre-wrap;\n",
       "}\n",
       "</style>\n",
       "<small>shape: (5, 11)</small><table border=\"1\" class=\"dataframe\"><thead><tr><th>subj</th><th>cycle</th><th>trial</th><th>phase</th><th>type</th><th>word1</th><th>word2</th><th>response</th><th>RT</th><th>correct</th><th>lag</th></tr><tr><td>i64</td><td>i64</td><td>i64</td><td>str</td><td>str</td><td>str</td><td>str</td><td>i64</td><td>f64</td><td>i64</td><td>i64</td></tr></thead><tbody><tr><td>101</td><td>0</td><td>-1</td><td>&quot;study&quot;</td><td>&quot;intact&quot;</td><td>&quot;formal&quot;</td><td>&quot;positive&quot;</td><td>null</td><td>null</td><td>null</td><td>null</td></tr><tr><td>101</td><td>0</td><td>0</td><td>&quot;study&quot;</td><td>&quot;intact&quot;</td><td>&quot;skin&quot;</td><td>&quot;careful&quot;</td><td>null</td><td>null</td><td>null</td><td>null</td></tr><tr><td>101</td><td>0</td><td>1</td><td>&quot;study&quot;</td><td>&quot;intact&quot;</td><td>&quot;upon&quot;</td><td>&quot;miss&quot;</td><td>null</td><td>null</td><td>null</td><td>null</td></tr><tr><td>101</td><td>0</td><td>2</td><td>&quot;study&quot;</td><td>&quot;intact&quot;</td><td>&quot;single&quot;</td><td>&quot;tradition&quot;</td><td>null</td><td>null</td><td>null</td><td>null</td></tr><tr><td>101</td><td>0</td><td>3</td><td>&quot;study&quot;</td><td>&quot;intact&quot;</td><td>&quot;prove&quot;</td><td>&quot;airport&quot;</td><td>null</td><td>null</td><td>null</td><td>null</td></tr></tbody></table></div>"
      ],
      "text/plain": [
       "shape: (5, 11)\n",
       "┌──────┬───────┬───────┬───────┬───┬──────────┬──────┬─────────┬──────┐\n",
       "│ subj ┆ cycle ┆ trial ┆ phase ┆ … ┆ response ┆ RT   ┆ correct ┆ lag  │\n",
       "│ ---  ┆ ---   ┆ ---   ┆ ---   ┆   ┆ ---      ┆ ---  ┆ ---     ┆ ---  │\n",
       "│ i64  ┆ i64   ┆ i64   ┆ str   ┆   ┆ i64      ┆ f64  ┆ i64     ┆ i64  │\n",
       "╞══════╪═══════╪═══════╪═══════╪═══╪══════════╪══════╪═════════╪══════╡\n",
       "│ 101  ┆ 0     ┆ -1    ┆ study ┆ … ┆ null     ┆ null ┆ null    ┆ null │\n",
       "│ 101  ┆ 0     ┆ 0     ┆ study ┆ … ┆ null     ┆ null ┆ null    ┆ null │\n",
       "│ 101  ┆ 0     ┆ 1     ┆ study ┆ … ┆ null     ┆ null ┆ null    ┆ null │\n",
       "│ 101  ┆ 0     ┆ 2     ┆ study ┆ … ┆ null     ┆ null ┆ null    ┆ null │\n",
       "│ 101  ┆ 0     ┆ 3     ┆ study ┆ … ┆ null     ┆ null ┆ null    ┆ null │\n",
       "└──────┴───────┴───────┴───────┴───┴──────────┴──────┴─────────┴──────┘"
      ]
     },
     "execution_count": 7,
     "metadata": {},
     "output_type": "execute_result"
    }
   ],
   "source": [
    "columns = [\n",
    "    \"subj\", \n",
    "    \"cycle\", \n",
    "    \"trial\", \n",
    "    \"phase\", \n",
    "    \"type\", \n",
    "    \"word1\", \n",
    "    \"word2\", \n",
    "    \"response\", \n",
    "    \"RT\", \n",
    "    \"correct\", \n",
    "    \"lag\",\n",
    "]\n",
    "df = (\n",
    "    df.select(pl.col(columns))\n",
    "    .with_columns(\n",
    "        pl.col(\"response\", \"RT\", \"correct\", \"lag\").replace(-1, None)\n",
    "    )\n",
    ")\n",
    "df.head()"
   ]
  },
  {
   "cell_type": "code",
   "execution_count": 8,
   "metadata": {},
   "outputs": [
    {
     "data": {
      "text/html": [
       "<div><style>\n",
       ".dataframe > thead > tr,\n",
       ".dataframe > tbody > tr {\n",
       "  text-align: right;\n",
       "  white-space: pre-wrap;\n",
       "}\n",
       "</style>\n",
       "<small>shape: (5, 11)</small><table border=\"1\" class=\"dataframe\"><thead><tr><th>subj</th><th>cycle</th><th>trial</th><th>phase</th><th>type</th><th>word1</th><th>word2</th><th>response</th><th>RT</th><th>correct</th><th>lag</th></tr><tr><td>i64</td><td>i64</td><td>i64</td><td>str</td><td>str</td><td>str</td><td>str</td><td>i64</td><td>f64</td><td>i64</td><td>i64</td></tr></thead><tbody><tr><td>101</td><td>0</td><td>-1</td><td>&quot;test&quot;</td><td>&quot;rearranged&quot;</td><td>&quot;waste&quot;</td><td>&quot;degree&quot;</td><td>0</td><td>2.312</td><td>1</td><td>2</td></tr><tr><td>101</td><td>0</td><td>0</td><td>&quot;test&quot;</td><td>&quot;rearranged&quot;</td><td>&quot;needed&quot;</td><td>&quot;able&quot;</td><td>0</td><td>3.542</td><td>1</td><td>1</td></tr><tr><td>101</td><td>0</td><td>1</td><td>&quot;test&quot;</td><td>&quot;rearranged&quot;</td><td>&quot;single&quot;</td><td>&quot;clean&quot;</td><td>0</td><td>2.084</td><td>1</td><td>3</td></tr><tr><td>101</td><td>0</td><td>2</td><td>&quot;test&quot;</td><td>&quot;rearranged&quot;</td><td>&quot;train&quot;</td><td>&quot;useful&quot;</td><td>0</td><td>1.669</td><td>1</td><td>2</td></tr><tr><td>101</td><td>0</td><td>3</td><td>&quot;test&quot;</td><td>&quot;rearranged&quot;</td><td>&quot;knees&quot;</td><td>&quot;various&quot;</td><td>0</td><td>2.326</td><td>1</td><td>5</td></tr></tbody></table></div>"
      ],
      "text/plain": [
       "shape: (5, 11)\n",
       "┌──────┬───────┬───────┬───────┬───┬──────────┬───────┬─────────┬─────┐\n",
       "│ subj ┆ cycle ┆ trial ┆ phase ┆ … ┆ response ┆ RT    ┆ correct ┆ lag │\n",
       "│ ---  ┆ ---   ┆ ---   ┆ ---   ┆   ┆ ---      ┆ ---   ┆ ---     ┆ --- │\n",
       "│ i64  ┆ i64   ┆ i64   ┆ str   ┆   ┆ i64      ┆ f64   ┆ i64     ┆ i64 │\n",
       "╞══════╪═══════╪═══════╪═══════╪═══╪══════════╪═══════╪═════════╪═════╡\n",
       "│ 101  ┆ 0     ┆ -1    ┆ test  ┆ … ┆ 0        ┆ 2.312 ┆ 1       ┆ 2   │\n",
       "│ 101  ┆ 0     ┆ 0     ┆ test  ┆ … ┆ 0        ┆ 3.542 ┆ 1       ┆ 1   │\n",
       "│ 101  ┆ 0     ┆ 1     ┆ test  ┆ … ┆ 0        ┆ 2.084 ┆ 1       ┆ 3   │\n",
       "│ 101  ┆ 0     ┆ 2     ┆ test  ┆ … ┆ 0        ┆ 1.669 ┆ 1       ┆ 2   │\n",
       "│ 101  ┆ 0     ┆ 3     ┆ test  ┆ … ┆ 0        ┆ 2.326 ┆ 1       ┆ 5   │\n",
       "└──────┴───────┴───────┴───────┴───┴──────────┴───────┴─────────┴─────┘"
      ]
     },
     "execution_count": 8,
     "metadata": {},
     "output_type": "execute_result"
    }
   ],
   "source": [
    "df_test = (\n",
    "    df.with_columns(\n",
    "        pl.col(\"response\", \"RT\", \"correct\", \"lag\").replace(-1, None)\n",
    "    )\n",
    "    .filter(pl.col(\"phase\") == \"test\")\n",
    ")\n",
    "df_test.head()"
   ]
  },
  {
   "cell_type": "code",
   "execution_count": 9,
   "metadata": {},
   "outputs": [
    {
     "data": {
      "text/html": [
       "<div><style>\n",
       ".dataframe > thead > tr,\n",
       ".dataframe > tbody > tr {\n",
       "  text-align: right;\n",
       "  white-space: pre-wrap;\n",
       "}\n",
       "</style>\n",
       "<small>shape: (9, 12)</small><table border=\"1\" class=\"dataframe\"><thead><tr><th>statistic</th><th>subj</th><th>cycle</th><th>trial</th><th>phase</th><th>type</th><th>word1</th><th>word2</th><th>response</th><th>RT</th><th>correct</th><th>lag</th></tr><tr><td>str</td><td>f64</td><td>f64</td><td>f64</td><td>str</td><td>str</td><td>str</td><td>str</td><td>f64</td><td>f64</td><td>f64</td><td>f64</td></tr></thead><tbody><tr><td>&quot;count&quot;</td><td>53700.0</td><td>53700.0</td><td>53700.0</td><td>&quot;53700&quot;</td><td>&quot;53700&quot;</td><td>&quot;53700&quot;</td><td>&quot;53700&quot;</td><td>53571.0</td><td>53571.0</td><td>53700.0</td><td>26850.0</td></tr><tr><td>&quot;null_count&quot;</td><td>0.0</td><td>0.0</td><td>0.0</td><td>&quot;0&quot;</td><td>&quot;0&quot;</td><td>&quot;0&quot;</td><td>&quot;0&quot;</td><td>129.0</td><td>129.0</td><td>0.0</td><td>26850.0</td></tr><tr><td>&quot;mean&quot;</td><td>165.655866</td><td>3.496089</td><td>28.5</td><td>null</td><td>null</td><td>null</td><td>null</td><td>0.37384</td><td>1.335209</td><td>0.656648</td><td>3.0</td></tr><tr><td>&quot;std&quot;</td><td>99.008229</td><td>2.289598</td><td>17.318264</td><td>null</td><td>null</td><td>null</td><td>null</td><td>0.483827</td><td>0.756055</td><td>0.474832</td><td>1.41424</td></tr><tr><td>&quot;min&quot;</td><td>101.0</td><td>0.0</td><td>-1.0</td><td>&quot;test&quot;</td><td>&quot;intact&quot;</td><td>&quot;ability&quot;</td><td>&quot;ability&quot;</td><td>0.0</td><td>0.212</td><td>0.0</td><td>1.0</td></tr><tr><td>&quot;25%&quot;</td><td>128.0</td><td>1.0</td><td>14.0</td><td>null</td><td>null</td><td>null</td><td>null</td><td>0.0</td><td>0.883</td><td>0.0</td><td>2.0</td></tr><tr><td>&quot;50%&quot;</td><td>158.0</td><td>3.0</td><td>29.0</td><td>null</td><td>null</td><td>null</td><td>null</td><td>0.0</td><td>1.126</td><td>1.0</td><td>3.0</td></tr><tr><td>&quot;75%&quot;</td><td>186.0</td><td>5.0</td><td>43.0</td><td>null</td><td>null</td><td>null</td><td>null</td><td>1.0</td><td>1.527</td><td>1.0</td><td>4.0</td></tr><tr><td>&quot;max&quot;</td><td>1150.0</td><td>7.0</td><td>58.0</td><td>&quot;test&quot;</td><td>&quot;rearranged&quot;</td><td>&quot;youth&quot;</td><td>&quot;youth&quot;</td><td>1.0</td><td>7.925</td><td>1.0</td><td>5.0</td></tr></tbody></table></div>"
      ],
      "text/plain": [
       "shape: (9, 12)\n",
       "┌────────────┬────────────┬──────────┬───────────┬───┬──────────┬──────────┬──────────┬─────────┐\n",
       "│ statistic  ┆ subj       ┆ cycle    ┆ trial     ┆ … ┆ response ┆ RT       ┆ correct  ┆ lag     │\n",
       "│ ---        ┆ ---        ┆ ---      ┆ ---       ┆   ┆ ---      ┆ ---      ┆ ---      ┆ ---     │\n",
       "│ str        ┆ f64        ┆ f64      ┆ f64       ┆   ┆ f64      ┆ f64      ┆ f64      ┆ f64     │\n",
       "╞════════════╪════════════╪══════════╪═══════════╪═══╪══════════╪══════════╪══════════╪═════════╡\n",
       "│ count      ┆ 53700.0    ┆ 53700.0  ┆ 53700.0   ┆ … ┆ 53571.0  ┆ 53571.0  ┆ 53700.0  ┆ 26850.0 │\n",
       "│ null_count ┆ 0.0        ┆ 0.0      ┆ 0.0       ┆ … ┆ 129.0    ┆ 129.0    ┆ 0.0      ┆ 26850.0 │\n",
       "│ mean       ┆ 165.655866 ┆ 3.496089 ┆ 28.5      ┆ … ┆ 0.37384  ┆ 1.335209 ┆ 0.656648 ┆ 3.0     │\n",
       "│ std        ┆ 99.008229  ┆ 2.289598 ┆ 17.318264 ┆ … ┆ 0.483827 ┆ 0.756055 ┆ 0.474832 ┆ 1.41424 │\n",
       "│ min        ┆ 101.0      ┆ 0.0      ┆ -1.0      ┆ … ┆ 0.0      ┆ 0.212    ┆ 0.0      ┆ 1.0     │\n",
       "│ 25%        ┆ 128.0      ┆ 1.0      ┆ 14.0      ┆ … ┆ 0.0      ┆ 0.883    ┆ 0.0      ┆ 2.0     │\n",
       "│ 50%        ┆ 158.0      ┆ 3.0      ┆ 29.0      ┆ … ┆ 0.0      ┆ 1.126    ┆ 1.0      ┆ 3.0     │\n",
       "│ 75%        ┆ 186.0      ┆ 5.0      ┆ 43.0      ┆ … ┆ 1.0      ┆ 1.527    ┆ 1.0      ┆ 4.0     │\n",
       "│ max        ┆ 1150.0     ┆ 7.0      ┆ 58.0      ┆ … ┆ 1.0      ┆ 7.925    ┆ 1.0      ┆ 5.0     │\n",
       "└────────────┴────────────┴──────────┴───────────┴───┴──────────┴──────────┴──────────┴─────────┘"
      ]
     },
     "execution_count": 9,
     "metadata": {},
     "output_type": "execute_result"
    }
   ],
   "source": [
    "# exclude trials where the response was faster than 0.2 s\n",
    "df_filt = (\n",
    "    df_test.with_columns(\n",
    "        pl.when(pl.col(\"RT\") < .2)\n",
    "        .then(None)\n",
    "        .otherwise(pl.col(\"RT\"))\n",
    "        .alias(\"RT\"),\n",
    "    )\n",
    "    .with_columns(\n",
    "        pl.when(pl.col(\"RT\").is_null())\n",
    "        .then(None)\n",
    "        .otherwise(pl.col(\"response\"))\n",
    "        .alias(\"response\")\n",
    "    )\n",
    ")\n",
    "df_filt.describe()"
   ]
  },
  {
   "cell_type": "code",
   "execution_count": 10,
   "metadata": {},
   "outputs": [
    {
     "data": {
      "text/html": [
       "<div><style>\n",
       ".dataframe > thead > tr,\n",
       ".dataframe > tbody > tr {\n",
       "  text-align: right;\n",
       "  white-space: pre-wrap;\n",
       "}\n",
       "</style>\n",
       "<small>shape: (2, 2)</small><table border=\"1\" class=\"dataframe\"><thead><tr><th>type</th><th>response</th></tr><tr><td>str</td><td>f64</td></tr></thead><tbody><tr><td>&quot;rearranged&quot;</td><td>0.216304</td></tr><tr><td>&quot;intact&quot;</td><td>0.531784</td></tr></tbody></table></div>"
      ],
      "text/plain": [
       "shape: (2, 2)\n",
       "┌────────────┬──────────┐\n",
       "│ type       ┆ response │\n",
       "│ ---        ┆ ---      │\n",
       "│ str        ┆ f64      │\n",
       "╞════════════╪══════════╡\n",
       "│ rearranged ┆ 0.216304 │\n",
       "│ intact     ┆ 0.531784 │\n",
       "└────────────┴──────────┘"
      ]
     },
     "execution_count": 10,
     "metadata": {},
     "output_type": "execute_result"
    }
   ],
   "source": [
    "(\n",
    "    df_filt.group_by(\"subj\", \"type\")\n",
    "    .agg(pl.col(\"response\").mean())\n",
    "    .group_by(\"type\")\n",
    "    .agg(pl.col(\"response\").mean())\n",
    ")"
   ]
  },
  {
   "cell_type": "code",
   "execution_count": 11,
   "metadata": {},
   "outputs": [
    {
     "data": {
      "text/html": [
       "<div><style>\n",
       ".dataframe > thead > tr,\n",
       ".dataframe > tbody > tr {\n",
       "  text-align: right;\n",
       "  white-space: pre-wrap;\n",
       "}\n",
       "</style>\n",
       "<small>shape: (112, 3)</small><table border=\"1\" class=\"dataframe\"><thead><tr><th>subj</th><th>hr</th><th>far</th></tr><tr><td>i64</td><td>f64</td><td>f64</td></tr></thead><tbody><tr><td>101</td><td>0.76569</td><td>0.108333</td></tr><tr><td>102</td><td>0.2875</td><td>0.241667</td></tr><tr><td>103</td><td>0.866667</td><td>0.091667</td></tr><tr><td>104</td><td>0.508333</td><td>0.3875</td></tr><tr><td>105</td><td>0.575</td><td>0.372385</td></tr><tr><td>&hellip;</td><td>&hellip;</td><td>&hellip;</td></tr><tr><td>210</td><td>0.209205</td><td>0.15</td></tr><tr><td>211</td><td>0.495833</td><td>0.179167</td></tr><tr><td>212</td><td>0.564854</td><td>0.52766</td></tr><tr><td>213</td><td>0.641667</td><td>0.470833</td></tr><tr><td>1150</td><td>0.408333</td><td>0.217573</td></tr></tbody></table></div>"
      ],
      "text/plain": [
       "shape: (112, 3)\n",
       "┌──────┬──────────┬──────────┐\n",
       "│ subj ┆ hr       ┆ far      │\n",
       "│ ---  ┆ ---      ┆ ---      │\n",
       "│ i64  ┆ f64      ┆ f64      │\n",
       "╞══════╪══════════╪══════════╡\n",
       "│ 101  ┆ 0.76569  ┆ 0.108333 │\n",
       "│ 102  ┆ 0.2875   ┆ 0.241667 │\n",
       "│ 103  ┆ 0.866667 ┆ 0.091667 │\n",
       "│ 104  ┆ 0.508333 ┆ 0.3875   │\n",
       "│ 105  ┆ 0.575    ┆ 0.372385 │\n",
       "│ …    ┆ …        ┆ …        │\n",
       "│ 210  ┆ 0.209205 ┆ 0.15     │\n",
       "│ 211  ┆ 0.495833 ┆ 0.179167 │\n",
       "│ 212  ┆ 0.564854 ┆ 0.52766  │\n",
       "│ 213  ┆ 0.641667 ┆ 0.470833 │\n",
       "│ 1150 ┆ 0.408333 ┆ 0.217573 │\n",
       "└──────┴──────────┴──────────┘"
      ]
     },
     "execution_count": 11,
     "metadata": {},
     "output_type": "execute_result"
    }
   ],
   "source": [
    "resp = (\n",
    "    df_filt.group_by(\"subj\", \"type\")\n",
    "    .agg(pl.col(\"response\").mean())\n",
    "    .sort(\"subj\", \"type\")\n",
    ")\n",
    "tab = (\n",
    "    resp.pivot(\"type\", index=\"subj\", values=\"response\")\n",
    "    .select(subj=\"subj\", hr=\"intact\", far=\"rearranged\")\n",
    ")\n",
    "tab"
   ]
  },
  {
   "cell_type": "code",
   "execution_count": 12,
   "metadata": {},
   "outputs": [
    {
     "data": {
      "text/plain": [
       "<Axes: xlabel='type', ylabel='response'>"
      ]
     },
     "execution_count": 12,
     "metadata": {},
     "output_type": "execute_result"
    },
    {
     "data": {
      "image/png": "[encoded data removed]",
      "text/plain": [
       "<Figure size 640x480 with 1 Axes>"
      ]
     },
     "metadata": {},
     "output_type": "display_data"
    }
   ],
   "source": [
    "import seaborn as sns\n",
    "sns.barplot(resp, x=\"type\", y=\"response\")"
   ]
  },
  {
   "cell_type": "code",
   "execution_count": 13,
   "metadata": {},
   "outputs": [
    {
     "data": {
      "text/html": [
       "<div><style>\n",
       ".dataframe > thead > tr,\n",
       ".dataframe > tbody > tr {\n",
       "  text-align: right;\n",
       "  white-space: pre-wrap;\n",
       "}\n",
       "</style>\n",
       "<small>shape: (560, 3)</small><table border=\"1\" class=\"dataframe\"><thead><tr><th>subj</th><th>lag</th><th>response</th></tr><tr><td>i64</td><td>i64</td><td>f64</td></tr></thead><tbody><tr><td>101</td><td>1</td><td>0.0625</td></tr><tr><td>101</td><td>2</td><td>0.1875</td></tr><tr><td>101</td><td>3</td><td>0.0625</td></tr><tr><td>101</td><td>4</td><td>0.125</td></tr><tr><td>101</td><td>5</td><td>0.104167</td></tr><tr><td>&hellip;</td><td>&hellip;</td><td>&hellip;</td></tr><tr><td>1150</td><td>1</td><td>0.270833</td></tr><tr><td>1150</td><td>2</td><td>0.1875</td></tr><tr><td>1150</td><td>3</td><td>0.166667</td></tr><tr><td>1150</td><td>4</td><td>0.212766</td></tr><tr><td>1150</td><td>5</td><td>0.25</td></tr></tbody></table></div>"
      ],
      "text/plain": [
       "shape: (560, 3)\n",
       "┌──────┬─────┬──────────┐\n",
       "│ subj ┆ lag ┆ response │\n",
       "│ ---  ┆ --- ┆ ---      │\n",
       "│ i64  ┆ i64 ┆ f64      │\n",
       "╞══════╪═════╪══════════╡\n",
       "│ 101  ┆ 1   ┆ 0.0625   │\n",
       "│ 101  ┆ 2   ┆ 0.1875   │\n",
       "│ 101  ┆ 3   ┆ 0.0625   │\n",
       "│ 101  ┆ 4   ┆ 0.125    │\n",
       "│ 101  ┆ 5   ┆ 0.104167 │\n",
       "│ …    ┆ …   ┆ …        │\n",
       "│ 1150 ┆ 1   ┆ 0.270833 │\n",
       "│ 1150 ┆ 2   ┆ 0.1875   │\n",
       "│ 1150 ┆ 3   ┆ 0.166667 │\n",
       "│ 1150 ┆ 4   ┆ 0.212766 │\n",
       "│ 1150 ┆ 5   ┆ 0.25     │\n",
       "└──────┴─────┴──────────┘"
      ]
     },
     "execution_count": 13,
     "metadata": {},
     "output_type": "execute_result"
    }
   ],
   "source": [
    "resp_lag = (\n",
    "    df_filt.filter(pl.col(\"type\") == \"rearranged\")\n",
    "    .group_by(\"subj\", \"lag\")\n",
    "    .agg(pl.col(\"response\").mean())\n",
    "    .sort(\"subj\", \"lag\")\n",
    ")\n",
    "resp_lag"
   ]
  },
  {
   "cell_type": "code",
   "execution_count": 14,
   "metadata": {},
   "outputs": [
    {
     "data": {
      "text/plain": [
       "<seaborn.axisgrid.FacetGrid at 0x12fb6fa21e0>"
      ]
     },
     "execution_count": 14,
     "metadata": {},
     "output_type": "execute_result"
    },
    {
     "data": {
      "image/png": "[encoded data removed]",
      "text/plain": [
       "<Figure size 500x500 with 1 Axes>"
      ]
     },
     "metadata": {},
     "output_type": "display_data"
    }
   ],
   "source": [
    "sns.relplot(resp_lag, x=\"lag\", y=\"response\", kind=\"line\")"
   ]
  }
 ],
 "metadata": {
  "kernelspec": {
   "display_name": ".venv",
   "language": "python",
   "name": "python3"
  },
  "language_info": {
   "codemirror_mode": {
    "name": "ipython",
    "version": 3
   },
   "file_extension": ".py",
   "mimetype": "text/x-python",
   "name": "python",
   "nbconvert_exporter": "python",
   "pygments_lexer": "ipython3",
   "version": "3.12.8"
  }
 },
 "nbformat": 4,
 "nbformat_minor": 2
}
